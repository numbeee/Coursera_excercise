{
 "cells": [
  {
   "cell_type": "markdown",
   "metadata": {},
   "source": [
    "<center>\n",
    "    <img src=\"https://cf-courses-data.s3.us.cloud-object-storage.appdomain.cloud/IBMDeveloperSkillsNetwork-DS0105EN-SkillsNetwork/labs/Module2/images/SN_web_lightmode.png\" width=\"300\" alt=\"cognitiveclass.ai logo\">\n",
    "</center>\n"
   ]
  },
  {
   "cell_type": "markdown",
   "metadata": {},
   "source": [
    "#### Add your code below following the instructions given in the course\n"
   ]
  },
  {
   "cell_type": "markdown",
   "metadata": {
    "tags": []
   },
   "source": [
    "#### First Notebook"
   ]
  },
  {
   "cell_type": "markdown",
   "metadata": {},
   "source": [
    "In this Notebook I will show some skills I learned during the Coursera course on Data Science."
   ]
  },
  {
   "cell_type": "markdown",
   "metadata": {},
   "source": [
    "In the world of Data Science it is of the utmost importance to have a good understanding of Data and how to manage it, work with it and extract some insights from it. In order to do so a Data Scientist has to be knowledgeable of different languages, such as\n",
    "\n",
    "1. Python\n",
    "2. R\n",
    "3. SQL\n",
    "4. Java\n",
    "5. C++\n",
    "\n",
    "if the Data scientist is brave enough to learn some more  we can simply add to the list:\n",
    "\n",
    "- Julia\n",
    "- JavaScript\n",
    "- Scala\n",
    "- MATLAB"
   ]
  },
  {
   "cell_type": "markdown",
   "metadata": {},
   "source": [
    "In order to elaborate and analyze the Data a data scientist hast to be familiar with some important libraries Especially in python), like some examples:\n",
    "\n",
    "1. numpy: basic and high level mathematics\n",
    "2. Pandas: effective and quick manipulation of Data and visualization\n",
    "3. Matplotlib: a derivative of MATLAB language, of great help in creating Data visualization and Plots\n",
    "4. Seaborn: again, great for visualizations\n",
    "5. Scikit-Learn: extensively used for machine learning\n",
    "6. TensorFlow: used mostly in the framework of Deep Learning (as PyTorch)"
   ]
  },
  {
   "cell_type": "markdown",
   "metadata": {},
   "source": [
    "We should not forget the main tools!\n",
    "\n",
    "- Jupyter (or JupyterLab)\n",
    "- RStudio\n",
    "- Apache Spark\n",
    "- Microsoft Excel\n",
    "- Tableau\n",
    "- Apache Hadoop\n",
    "- Power BI"
   ]
  },
  {
   "cell_type": "markdown",
   "metadata": {},
   "source": [
    "Since I don't want to bore you, here I will introduce the main arithmetical expression, and in the following you will find some examples. We will explore:\n",
    "\n",
    "- Addition (+): with this we will add two or more numbers. Like 3+2=5\n",
    "- Subtraction (-): to subtract a number from another. Like 3-2=1\n",
    "- Multiplication (x): we can use it to multiply different numbers. Like 3x2=6\n",
    "- Division (/): used to divide a number in subpart of itself. Like 3/2=1.5"
   ]
  },
  {
   "cell_type": "code",
   "execution_count": 3,
   "metadata": {
    "tags": []
   },
   "outputs": [
    {
     "data": {
      "text/plain": [
       "330"
      ]
     },
     "execution_count": 3,
     "metadata": {},
     "output_type": "execute_result"
    }
   ],
   "source": [
    "(5+6)*30"
   ]
  },
  {
   "cell_type": "code",
   "execution_count": 4,
   "metadata": {
    "tags": []
   },
   "outputs": [
    {
     "name": "stdout",
     "output_type": "stream",
     "text": [
      "2.5\n"
     ]
    }
   ],
   "source": [
    "#we want to convert minutes into Hours\n",
    "#basic ist that in an hour are 60 minutes so we will divide the total amount of minutes in groups of 60 and we will see how many hours that is\n",
    "\n",
    "Minutes = 150\n",
    "Hours = 150/60\n",
    "\n",
    "print(Hours)"
   ]
  },
  {
   "cell_type": "markdown",
   "metadata": {},
   "source": [
    "## Objectives\n",
    "\n",
    "In this section I have to enumerate the Objectives, I don't know which objectives, if my life goals or simply the objectives of this final assignment. The Objectives of this assignment are:\n",
    "\n",
    "1. Create and use a Jupyter Notebook\n",
    "2. Show that I can write some fancy Markdowns\n",
    "3. Show my ability to write some list\n",
    "4. Demonstrate that I followed the lessons and know some of the basic tools, languages and Python packages\n",
    "5. Show that I am starting to learn to code\n",
    "6. list the Objectives\n",
    "\n",
    "My goal in life is to be happy."
   ]
  },
  {
   "cell_type": "markdown",
   "metadata": {},
   "source": [
    "Emiliano"
   ]
  },
  {
   "cell_type": "code",
   "execution_count": null,
   "metadata": {},
   "outputs": [],
   "source": []
  }
 ],
 "metadata": {
  "kernelspec": {
   "display_name": "Python",
   "language": "python",
   "name": "conda-env-python-py"
  },
  "language_info": {
   "codemirror_mode": {
    "name": "ipython",
    "version": 3
   },
   "file_extension": ".py",
   "mimetype": "text/x-python",
   "name": "python",
   "nbconvert_exporter": "python",
   "pygments_lexer": "ipython3",
   "version": "3.7.12"
  }
 },
 "nbformat": 4,
 "nbformat_minor": 4
}
